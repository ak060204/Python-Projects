{
 "cells": [
  {
   "cell_type": "code",
   "execution_count": 125,
   "id": "9cc8fca4-9038-49f1-b324-8d3d073fd39b",
   "metadata": {},
   "outputs": [],
   "source": [
    "# import libraries \n",
    "\n",
    "from bs4 import BeautifulSoup\n",
    "import requests\n",
    "import time\n",
    "import datetime\n",
    "\n",
    "import smtplib"
   ]
  },
  {
   "cell_type": "code",
   "execution_count": 127,
   "id": "6c53e15f-cd92-4d98-9280-05f2db2a58fe",
   "metadata": {},
   "outputs": [
    {
     "name": "stdout",
     "output_type": "stream",
     "text": [
      "Head First Data Analysis 1 Edition\n",
      "Michael Milton\n",
      "2010\n",
      "800\n",
      "4.3\n"
     ]
    }
   ],
   "source": [
    "# Connect to Website and pull in data\n",
    "\n",
    "URL = 'https://www.flipkart.com/head-first-data-analysis-1/p/itmf3jq43jc3r5ua?pid=9788184047998&lid=LSTBOK9788184047998VE9LOU&marketplace=FLIPKART&q=data+analysis&store=bks&srno=s_1_2&otracker=AS_Query_OrganicAutoSuggest_4_9_na_na_na&otracker1=AS_Query_OrganicAutoSuggest_4_9_na_na_na&fm=Search&iid=666a129c-e18c-489b-be8d-130acd7082c3.9788184047998.SEARCH&ppt=sp&ppn=sp&ssid=5ky4lxm6pc0000001739774370360&qH=cbfb2fae0fb557c1'\n",
    "\n",
    "headers = {\"User-Agent\": \"Mozilla/5.0 (Windows NT 10.0; Win64; x64) AppleWebKit/537.36 (KHTML, like Gecko) Chrome/133.0.0.0 Safari/537.36\", \"Accept-Encoding\":\"gzip, deflate\", \"Accept\":\"text/html,application/xhtml+xml,application/xml;q=0.9,*/*;q=0.8\", \"DNT\":\"1\",\"Connection\":\"close\", \"Upgrade-Insecure-Requests\":\"1\"}\n",
    "\n",
    "page = requests.get(URL, headers=headers)\n",
    "\n",
    "soup1 = BeautifulSoup(page.content, \"html.parser\")\n",
    "\n",
    "soup2 = BeautifulSoup(soup1.prettify(), \"html.parser\")\n",
    "\n",
    "title = soup2.find('span',class_='VU-ZEz').get_text()\n",
    "title = title.strip()[:34]\n",
    "Author = soup2.find('a',class_='yN+eNk w9jEaj azBkHf').get_text()\n",
    "Author = Author.strip()\n",
    "Publication_Year = soup2.find('li',class_='HPETK2').get_text()\n",
    "Publication_Year = Publication_Year.strip()\n",
    "price = soup2.find('div',class_='Nx9bqj CxhGGd').get_text()\n",
    "price = price.strip()[1:]\n",
    "Rating = soup2.find('div',class_='XQDdHH').get_text()\n",
    "Rating = Rating.strip()\n",
    "print(title)\n",
    "print(Author)\n",
    "print(Publication_Year)\n",
    "print(price)\n",
    "print(Rating)\n"
   ]
  },
  {
   "cell_type": "code",
   "execution_count": 128,
   "id": "682becc1-8266-460b-a765-7d9c8ef4bdaf",
   "metadata": {},
   "outputs": [
    {
     "name": "stdout",
     "output_type": "stream",
     "text": [
      "2025-02-17\n"
     ]
    }
   ],
   "source": [
    "# Create a Timestamp for your output to track when data was collected\n",
    "\n",
    "import datetime\n",
    "\n",
    "today = datetime.date.today()\n",
    "\n",
    "print(today)\n",
    "\n"
   ]
  },
  {
   "cell_type": "code",
   "execution_count": 131,
   "id": "ee87e90e-98a6-48e3-8709-651db392a228",
   "metadata": {},
   "outputs": [],
   "source": [
    "# Create CSV and write headers and data into the file\n",
    "\n",
    "import csv \n",
    "\n",
    "header = ['Title', 'Author', 'Publication_year', 'Price', 'Rating', 'Date']\n",
    "data = [title, Author, Publication_Year, price, Rating, today]\n",
    "\n",
    "\n",
    "with open('FlipkartWebScraperDataset.csv', 'w', newline='', encoding='UTF8') as f:\n",
    "    writer = csv.writer(f)\n",
    "    writer.writerow(header)\n",
    "    writer.writerow(data)"
   ]
  },
  {
   "cell_type": "code",
   "execution_count": 133,
   "id": "08b7fa86-b4d6-4b59-9c7e-c14d7286dcb3",
   "metadata": {},
   "outputs": [],
   "source": [
    "#Now we are appending data to the csv\n",
    "\n",
    "with open('FlipkartWebScraperDataset.csv', 'a+', newline='', encoding='UTF8') as f:\n",
    "    writer = csv.writer(f)\n",
    "    writer.writerow(data)"
   ]
  },
  {
   "cell_type": "code",
   "execution_count": 146,
   "id": "fa28e86b-1eb0-4365-b69b-ef63d8b0a902",
   "metadata": {},
   "outputs": [],
   "source": [
    "def check_price():\n",
    "    URL = 'https://www.flipkart.com/head-first-data-analysis-1/p/itmf3jq43jc3r5ua?pid=9788184047998&lid=LSTBOK9788184047998VE9LOU&marketplace=FLIPKART&q=data+analysis&store=bks&srno=s_1_2&otracker=AS_Query_OrganicAutoSuggest_4_9_na_na_na&otracker1=AS_Query_OrganicAutoSuggest_4_9_na_na_na&fm=Search&iid=666a129c-e18c-489b-be8d-130acd7082c3.9788184047998.SEARCH&ppt=sp&ppn=sp&ssid=5ky4lxm6pc0000001739774370360&qH=cbfb2fae0fb557c1'\n",
    "\n",
    "    headers = {\"User-Agent\": \"Mozilla/5.0 (Windows NT 10.0; Win64; x64) AppleWebKit/537.36 (KHTML, like Gecko) Chrome/133.0.0.0 Safari/537.36\", \"Accept-Encoding\":\"gzip, deflate\", \"Accept\":\"text/html,application/xhtml+xml,application/xml;q=0.9,*/*;q=0.8\", \"DNT\":\"1\",\"Connection\":\"close\", \"Upgrade-Insecure-Requests\":\"1\"}\n",
    "\n",
    "    page = requests.get(URL, headers=headers)\n",
    "\n",
    "    soup1 = BeautifulSoup(page.content, \"html.parser\")\n",
    "\n",
    "    soup2 = BeautifulSoup(soup1.prettify(), \"html.parser\")\n",
    "\n",
    "    title = soup2.find('span',class_='VU-ZEz').get_text()\n",
    "    title = title.strip()[:34]\n",
    "    Author = soup2.find('a',class_='yN+eNk w9jEaj azBkHf').get_text()\n",
    "    Author = Author.strip()\n",
    "    Publication_Year = soup2.find('li',class_='HPETK2').get_text()\n",
    "    Publication_Year = Publication_Year.strip()\n",
    "    price = soup2.find('div',class_='Nx9bqj CxhGGd').get_text()\n",
    "    price = price.strip()[1:]\n",
    "    Rating = soup2.find('div',class_='XQDdHH').get_text()\n",
    "    Rating = Rating.strip()\n",
    "    print(title)\n",
    "    print(Author)\n",
    "    print(Publication_Year)\n",
    "    print(price)\n",
    "    print(Rating)\n",
    "    import datetime\n",
    "    today = datetime.date.today()\n",
    "    print(today)\n",
    "    import csv \n",
    "    header = ['Title', 'Author', 'Publication_year', 'Price', 'Rating', 'Date']\n",
    "    data = [title, Author, Publication_Year, price, Rating, today]\n",
    "    with open('FlipkartWebScraperDataset.csv', 'a+', newline='', encoding='UTF8') as f:\n",
    "        writer = csv.writer(f)\n",
    "        writer.writerow(data)"
   ]
  },
  {
   "cell_type": "code",
   "execution_count": null,
   "id": "90545002-7780-41a7-8236-dfc10233d018",
   "metadata": {},
   "outputs": [
    {
     "name": "stdout",
     "output_type": "stream",
     "text": [
      "Head First Data Analysis 1 Edition\n",
      "Michael Milton\n",
      "2010\n",
      "800\n",
      "4.3\n",
      "2025-02-17\n"
     ]
    }
   ],
   "source": [
    "# Runs check_price after a set time and inputs data into your CSV\n",
    "\n",
    "while(True):\n",
    "    check_price()\n",
    "    time.sleep(86400)"
   ]
  },
  {
   "cell_type": "code",
   "execution_count": null,
   "id": "f216eff1-b860-4f23-b657-7bdbe0d2550a",
   "metadata": {},
   "outputs": [],
   "source": [
    "import pandas as pd\n",
    "\n",
    "df = pd.read_csv(r\"C:\\Users\\Admin\\FlipkartWebScraperDataset.csv\")\n",
    "df"
   ]
  },
  {
   "cell_type": "code",
   "execution_count": null,
   "id": "92db3e8b-b762-41eb-8e58-e2e32836d53c",
   "metadata": {},
   "outputs": [],
   "source": [
    "def send_mail():\n",
    "    server = smtplib.SMTP_SSL('smtp.gmail.com',465)\n",
    "    server.ehlo()\n",
    "    #server.starttls()\n",
    "    server.ehlo()\n",
    "    server.login('ak060204@gmail.com','xxxxxxxxxxxxxx')\n",
    "    \n",
    "    subject = \"The Book you want is below 500RS! Now is your chance to buy!\"\n",
    "    body = \"Asveen, This is the moment we have been waiting for. Now is your chance to pick up the Book of you wanted. Don't mess it up! Link here: https://www.flipkart.com/head-first-data-analysis-1/p/itmf3jq43jc3r5ua?pid=9788184047998&lid=LSTBOK9788184047998VE9LOU&marketplace=FLIPKART&q=data+analysis&store=bks&srno=s_1_2&otracker=AS_Query_OrganicAutoSuggest_4_9_na_na_na&otracker1=AS_Query_OrganicAutoSuggest_4_9_na_na_na&fm=Search&iid=666a129c-e18c-489b-be8d-130acd7082c3.9788184047998.SEARCH&ppt=sp&ppn=sp&ssid=5ky4lxm6pc0000001739774370360&qH=cbfb2fae0fb557c1\"\n",
    "   \n",
    "    msg = f\"Subject: {subject}\\n\\n{body}\"\n",
    "    \n",
    "    server.sendmail(\n",
    "        'ak060204@gmail.com@gmail.com',\n",
    "        msg\n",
    "     \n",
    "    )"
   ]
  },
  {
   "cell_type": "code",
   "execution_count": null,
   "id": "53a33f58-e294-4095-90f1-87cb057d6c80",
   "metadata": {},
   "outputs": [],
   "source": []
  }
 ],
 "metadata": {
  "kernelspec": {
   "display_name": "Python [conda env:base] *",
   "language": "python",
   "name": "conda-base-py"
  },
  "language_info": {
   "codemirror_mode": {
    "name": "ipython",
    "version": 3
   },
   "file_extension": ".py",
   "mimetype": "text/x-python",
   "name": "python",
   "nbconvert_exporter": "python",
   "pygments_lexer": "ipython3",
   "version": "3.12.7"
  }
 },
 "nbformat": 4,
 "nbformat_minor": 5
}
